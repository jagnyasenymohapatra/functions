{
  "nbformat": 4,
  "nbformat_minor": 0,
  "metadata": {
    "colab": {
      "provenance": [],
      "toc_visible": true,
      "authorship_tag": "ABX9TyPAIZQdpajrfidxQbuY5Wij",
      "include_colab_link": true
    },
    "kernelspec": {
      "name": "python3",
      "display_name": "Python 3"
    },
    "language_info": {
      "name": "python"
    }
  },
  "cells": [
    {
      "cell_type": "markdown",
      "metadata": {
        "id": "view-in-github",
        "colab_type": "text"
      },
      "source": [
        "<a href=\"https://colab.research.google.com/github/jagnyasenymohapatra/functions/blob/main/module_3.ipynb\" target=\"_parent\"><img src=\"https://colab.research.google.com/assets/colab-badge.svg\" alt=\"Open In Colab\"/></a>"
      ]
    },
    {
      "cell_type": "markdown",
      "source": [
        "# Data Types and Structures Questions\n",
        "\n",
        "# *1. What are data structures, and why are they important?\n",
        "\n",
        " Data structures ;\n",
        "\n",
        "Data structures are ways to organize and store data in a computer so that it can be efficiently accessed, modified, and manipulated. They provide a framework for managing large amounts of data, making it possible to perform operations such as sorting, searching, inserting, and deleting data efficiently.\n",
        "\n",
        "\n",
        "*   Types of Data Structures:\n",
        "\n",
        "1. Arrays\n",
        "2. Linked Lists\n",
        "3. Stacks\n",
        "4. Queues\n",
        "5. Trees (Binary Trees, AVL Trees, etc.)\n",
        "6. Graphs\n",
        "7. Hash Tables\n",
        "8. Heaps\n",
        "\n",
        "Why are Data Structures Important?\n",
        "\n",
        "1. Efficient Data Management: Data structures enable efficient data management, making it possible to handle large amounts of data.\n",
        "2. Fast Data Retrieval: Data structures allow for fast data retrieval, enabling applications to respond quickly to user queries.\n",
        "3. Scalability: Data structures help applications scale, making it possible to handle increasing amounts of data.\n",
        "4. Problem-Solving: Data structures provide a framework for solving complex problems, making it possible to break down problems into manageable parts.\n",
        "5. Algorithm Design: Data structures are essential for designing efficient algorithms, which are critical in many applications, such as sorting, searching, and graph traversal.\n",
        "6. Memory Management: Data structures help manage memory efficiently, reducing memory waste and improving application performance.\n",
        "7. Improved Code Quality: Using appropriate data structures leads to improved code quality, making it more maintainable, readable, and efficient.\n",
        "\n",
        "\n",
        "\n",
        "\n"
      ],
      "metadata": {
        "id": "jhvVU-FfRsYI"
      }
    },
    {
      "cell_type": "markdown",
      "source": [
        "2. Explain the difference between mutable and immutable data types with examples.\n",
        "In programming, data types can be classified into two main categories: mutable and immutable.\n",
        "\n",
        "Mutable Data Types:\n",
        "\n",
        "Mutable data types are those that can be modified or changed after they are created. Examples of mutable data types include:\n",
        "\n",
        "1. Lists\n",
        "2. Dictionaries\n",
        "3. Sets\n",
        "4. Arrays (in some programming languages)\n",
        "\n",
        "Example in Python:\n",
        "\n",
        "my_list = [1, 2, 3]\n",
        "print(my_list)  # Output: [1, 2, 3]\n",
        "\n",
        "my_list[0] = 10\n",
        "print(my_list)  # Output: [10, 2, 3]\n",
        "\n",
        "As you can see, the list my_list was modified by changing the first element from 1 to 10.\n",
        "\n",
        "Immutable Data Types:\n",
        "\n",
        "Immutable data types are those that cannot be modified or changed after they are created. Examples of immutable data types include:\n",
        "\n",
        "1. Integers\n",
        "2. Floats\n",
        "3. Strings\n",
        "4. Tuples\n",
        "\n",
        "Example in Python:\n",
        "\n",
        "my_string = \"hello\"\n",
        "print(my_string)  # Output: hello\n",
        "\n",
        "my_string[0] = \"H\"  # This will raise an error\n",
        "\n",
        "As you can see, trying to modify the string my_string by changing the first character from h to H raises an error, because strings are immutable in Python.\n",
        "\n",
        "Key differences:\n",
        "\n",
        "1. Modifiability: Mutable data types can be modified, while immutable data types cannot.\n",
        "2. Memory allocation: Mutable data types may require more memory allocation, as they can grow or shrink in size. Immutable data types, on the other hand, have a fixed size.\n",
        "3. Thread safety: Immutable data types are inherently thread-safe, as they cannot be modified concurrently. Mutable data types, however, require synchronization mechanisms to ensure thread safety.\n",
        "\n",
        "In summary, mutable data types can be modified, while immutable data types cannot. Understanding the differences between mutable and immutable data types is essential for writing efficient, safe, and concurrent code."
      ],
      "metadata": {
        "id": "TpBzz0NBUi5K"
      }
    },
    {
      "cell_type": "markdown",
      "source": [],
      "metadata": {
        "id": "AycDXU5pV1C-"
      }
    },
    {
      "cell_type": "markdown",
      "source": [
        "# 3. What are the main differences between lists and tuples in Python?\n",
        "\n",
        "\n",
        "   In Python, lists and tuples are two fundamental data structures that can store multiple values. While they share some similarities, there are key differences between them:\n",
        "\n",
        "Similarities\n",
        "\n",
        "1. Ordered: Both lists and tuples maintain the order in which elements were added.\n",
        "2. Indexed: Both support indexing, allowing access to specific elements using their index.\n",
        "3. Iterable: Both can be iterated over using loops.\n",
        "\n",
        "Differences\n",
        "\n",
        "1. Immutability\n",
        "\n",
        "- Tuples: Immutable, meaning their contents cannot be modified after creation.\n",
        "- Lists: Mutable, allowing elements to be added, removed, or modified.\n",
        "\n",
        "2. Syntax\n",
        "\n",
        "- Tuples: Defined using parentheses () and elements are separated by commas.\n",
        "- Lists: Defined using square brackets [] and elements are separated by commas.\n",
        "\n",
        "3. Performance\n",
        "\n",
        "- Tuples: Generally faster and more memory-efficient than lists due to their immutability.\n",
        "- Lists: Slower and more memory-intensive due to their dynamic nature.\n",
        "\n",
        "4. Use Cases\n",
        "\n",
        "- Tuples: Suitable for storing small, fixed-size collections of data that won't change, such as coordinates or colors.\n",
        "- Lists: Ideal for storing larger, dynamic collections of data that may need to be modified, such as user input or database records.\n",
        "\n",
        "5. Methods\n",
        "\n",
        "- Tuples: Limited methods, primarily for indexing, slicing, and concatenation.\n",
        "- Lists: Extensive range of methods for insertion, deletion, sorting, and manipulation.\n",
        "\n",
        "In summary, while both lists and tuples can store multiple values, the key differences lie in their immutability, syntax, performance, use cases, and available methods."
      ],
      "metadata": {
        "id": "Dt3BZJ_bWaRC"
      }
    },
    {
      "cell_type": "markdown",
      "source": [
        "4. Describe how dictionaries store data.\n",
        "   \n",
        "\n",
        "*   Dictionaries in Python are a fundamental data structure that stores data in a key-value pair format. Here's how they work:\n",
        "\n",
        "Key-Value Pairs\n",
        "\n",
        "Dictionaries store data as a collection of key-value pairs. Each key is unique and maps to a specific value.\n",
        "\n",
        "Hash Table Implementation\n",
        "\n",
        "Dictionaries are implemented using a hash table data structure. When a key-value pair is added to a dictionary:\n",
        "\n",
        "1. The key is hashed into an index using a hash function.\n",
        "2. The resulting index is used to store the corresponding value in an array.\n",
        "\n",
        "Data Storage\n",
        "\n",
        "Dictionaries store data in the following way:\n",
        "\n",
        "1. Keys: Keys are stored in a separate array, and each key is hashed to generate an index.\n",
        "2. Values: Values are stored in a separate array, and each value is associated with a key through its index.\n",
        "3. Index Table: The index table maps each key's hash value to its corresponding index in the values array.\n",
        "\n",
        "Benefits\n",
        "\n",
        "The hash table implementation provides several benefits:\n",
        "\n",
        "1. Fast Lookups: Dictionaries allow for fast lookups, with an average time complexity of O(1).\n",
        "2. Efficient Insertion and Deletion: Dictionaries can efficiently insert and delete key-value pairs, with an average time complexity of O(1).\n",
        "\n",
        "Example\n",
        "\n",
        "Here's an example of how a dictionary stores data:\n",
        "\n",
        "\n",
        "my_dict = {\"name\": \"jagnyaseni\", \"age\" 23}\n",
        "\n",
        "\n",
        "In this example:\n",
        "\n",
        "- The keys \"name\" and \"age\" are hashed and stored in the keys array.\n",
        "- The values \"\"jagnyaseni\" and 23 are stored in the values array.\n",
        "- The index table maps each key's hash value to its corresponding index in the values array.\n",
        "\n",
        "\n"
      ],
      "metadata": {
        "id": "moo2HzTRW53c"
      }
    },
    {
      "cell_type": "markdown",
      "source": [
        "# 5. Why might you use a set instead of a list in Python?\n",
        "  \n",
        "\n",
        "1.   In Python, you might prefer to use a set instead of a list in the following scenarios:\n",
        "\n",
        "Uniqueness of Elements\n",
        "\n",
        "1. Unique values: Sets automatically eliminate duplicate values, ensuring that each element is unique. Lists, on the other hand, allow duplicates.\n",
        "\n",
        "Performance\n",
        "\n",
        "1. Faster membership testing: Checking if an element is in a set is generally faster than in a list, especially for large datasets.\n",
        "2. Faster insertion and removal: Adding or removing elements from a set is typically faster than in a list.\n",
        "\n",
        "Mathematical Operations\n",
        "\n",
        "1. Set operations: Sets support mathematical operations like union, intersection, difference, and symmetric difference, making them ideal for tasks involving set theory.\n",
        "\n",
        "Use Cases\n",
        "\n",
        "1. Removing duplicates: When you need to remove duplicates from a list, converting it to a set is a convenient solution.\n",
        "2. Fast lookup: When you need to quickly check if an element is present in a collection, a set is a better choice than a list.\n",
        "3. Set-based operations: When working with data that involves set-based operations, such as finding the intersection of two datasets, sets are the natural choice.\n",
        "\n",
        "Here's an example demonstrating the difference:\n",
        "\n",
        "\n",
        "# List with duplicates\n",
        "my_list = [1, 2, 2, 3, 4, 4, 5]\n",
        "\n",
        "# Convert list to set to remove duplicates\n",
        "my_set = set(my_list)\n",
        "print(my_set)  # Output: {1, 2, 3, 4, 5}\n",
        "\n",
        "# Fast membership testing\n",
        "print(3 in my_set)  # Output: True\n",
        "\n",
        "\n",
        "\n"
      ],
      "metadata": {
        "id": "LoYqoi9OYDH9"
      }
    },
    {
      "cell_type": "markdown",
      "source": [
        "# 6.What is a string in Python, and how is it different from a list?\n",
        "\n",
        "\n",
        "*  In Python, a string is a sequence of characters, such as letters, numbers, or symbols. Strings are immutable, meaning their contents cannot be modified after creation.\n",
        "\n",
        "Here are the key differences between strings and lists in Python:\n",
        "\n",
        "Immutability\n",
        "\n",
        "- Strings: Immutable, cannot be changed after creation.\n",
        "- Lists: Mutable, can be modified after creation.\n",
        "\n",
        "Syntax\n",
        "\n",
        "- Strings: Defined using quotes (\" \" or ' ').\n",
        "- Lists: Defined using square brackets ([]).\n",
        "\n",
        "Elements\n",
        "\n",
        "- Strings: Composed of characters (letters, numbers, symbols).\n",
        "- Lists: Can contain any data type, including strings, integers, floats, and other lists.\n",
        "\n",
        "Indexing and Slicing\n",
        "\n",
        "- Both strings and lists support indexing and slicing.\n",
        "\n",
        "Methods\n",
        "\n",
        "- Strings: Have various methods for manipulation, such as upper(), lower(), split(), and join().\n",
        "- Lists: Have methods for modification, such as append(), insert(), remove(), and sort().\n",
        "\n",
        "Here's an example highlighting the differences:\n",
        "\n",
        "\n",
        "# String\n",
        "my_string = \"hello\"\n",
        "print(my_string[0])  # Output: h\n",
        "# my_string[0] = \"H\"  # This would raise an error\n",
        "\n",
        "# List\n",
        "my_list = [1, 2, 3]\n",
        "print(my_list[0])  # Output: 1\n",
        "my_list[0] = 10\n",
        "print(my_list)  # Output: [10, 2, 3]\n",
        "\n",
        "\n"
      ],
      "metadata": {
        "id": "gu9DT22UYhq_"
      }
    },
    {
      "cell_type": "markdown",
      "source": [
        "# 7. **How do tuples ensure data integrity in Python**?\n",
        "\n",
        "\n",
        "Tuples in Python ensure data integrity in several ways;\n",
        "\n",
        "**Immutability**\n",
        "\n",
        "Tuples are immutable, meaning their contents cannot be modified after creation. This ensures that once a tuple is created, its data remains consistent and cannot be altered.\n",
        "\n",
        "**Protection from Accidental Changes**\n",
        "\n",
        "Since tuples are immutable, they protect against accidental changes to the data. This is particularly important when working with sensitive or critical data.\n",
        "\n",
        "**Thread Safety **\n",
        "\n",
        "Tuples are thread-safe, meaning they can be safely accessed and shared between multiple threads without fear of data corruption.\n",
        "\n",
        "**Hashability**\n",
        "\n",
        "Tuples are hashable, which means they can be used as keys in dictionaries. This ensures that tuples can be reliably used to store and retrieve data.\n",
        "\n",
        "**Code Readability and Maintainability**\n",
        "\n",
        "Using tuples can improve code readability and maintainability by clearly indicating that certain data should not be changed.\n",
        "\n",
        "**Real-World Applications**\n",
        "\n",
        "Tuples are particularly useful in scenarios where data integrity is crucial, such as:\n",
        "\n",
        "1. Database query results: Tuples can be used to store query results, ensuring that the data remains consistent and unchanged.\n",
        "2. Configuration data: Tuples can be used to store configuration data, protecting it from accidental changes.\n",
        "3. Scientific data: Tuples can be used to store scientific data, ensuring that the data remains accurate and unchanged.\n",
        "\n",
        "Here's an example demonstrating the immutability of tuples:\n",
        "\n",
        "\n",
        "# Create a tuple\n",
        "my_tuple = (1, 2, 3)\n",
        "\n",
        "# Attempt to modify the tuple\n",
        "try:\n",
        "    my_tuple[0] = 10\n",
        "except TypeError as e:\n",
        "    print(e)  # Output: 'tuple' object does not support item assignment\n"
      ],
      "metadata": {
        "id": "_Q56wUvzZNl9"
      }
    },
    {
      "cell_type": "markdown",
      "source": [
        "# 8.What is a hash table, and how does it relate to dictionaries in Python?\n",
        "  \n",
        "  A hash table is a data structure that stores key-value pairs in an array using a hash function to map keys to indices of the array. Here's a breakdown of how it works:\n",
        "\n",
        "**Key Components**\n",
        "\n",
        "1. Keys: Unique identifiers for each element in the hash table.\n",
        "2. Values: Data associated with each key.\n",
        "3. Hash Function: A function that takes a key as input and generates an index (or hash code) for the array.\n",
        "4. Array: The underlying storage for the key-value pairs.\n",
        "\n",
        "**How Hash Tables Work**\n",
        "\n",
        "1. Key Insertion: When a new key-value pair is added, the hash function generates an index for the key.\n",
        "2. Index Calculation: The hash function calculates the index using the key's hash code.\n",
        "3. Value Storage: The value is stored in the array at the calculated index.\n",
        "4. Key Retrieval: When a key is searched, the hash function generates the index, and the corresponding value is retrieved from the array.\n",
        "\n",
        "**Relation to Dictionaries in Python**\n",
        "\n",
        "In Python, dictionaries (or dict objects) are implemented using hash tables. Here's how:\n",
        "\n",
        "**Key-Value Pairs**\n",
        "\n",
        "Dictionaries store key-value pairs, where each key is unique and maps to a specific value.\n",
        "\n",
        "**Hash Function**\n",
        "\n",
        "Python's dictionary implementation uses a hash function to map keys to indices of the underlying array.\n",
        "\n",
        "**Collision Resolution**\n",
        "\n",
        "When two keys hash to the same index (a collision), Python's dictionary implementation uses a technique called open addressing to resolve the collision.\n",
        "\n",
        "**Benefits**\n",
        "\n",
        "The hash table implementation provides fast lookups, insertions, and deletions, making dictionaries a powerful and efficient data structure in Python.\n",
        "\n",
        "**Example**\n",
        "\n",
        "Here's an example of creating and using a dictionary in Python:\n",
        "\n",
        "\n",
        "# Create a dictionary\n",
        "my_dict = {\"name\": \"Jagnyaseni\", \"age\": 30}\n",
        "\n",
        "# Access a value using its key\n",
        "print(my_dict[\"name\"])  # Output: Jagnyaseni\n",
        "\n",
        "# Update a value\n",
        "my_dict[\"age\"] = 31\n",
        "print(my_dict[\"age\"])  # Output: 31\n",
        "\n",
        "\n",
        "\n",
        "\n"
      ],
      "metadata": {
        "id": "UwiZ9bZzaqAU"
      }
    },
    {
      "cell_type": "markdown",
      "source": [
        "#9.Can lists contain different data types in Python?\n",
        "  Yes, lists in Python can contain different data types. This is one of the key features of Python lists, making them a versatile and powerful data structure.\n",
        "\n",
        "Here are some examples of lists containing different data types:\n",
        "\n",
        "Example 1: Mixing Numbers and Strings\n",
        "\n",
        "\n",
        "my_list = [1, 2, \"hello\", 3.5, \"world\"]\n",
        "print(my_list)  # Output: [1, 2, 'hello', 3.5, 'world']\n",
        "\n",
        "\n",
        "Example 2: Including Boolean Values and Lists\n",
        "\n",
        "\n",
        "my_list = [True, False, [1, 2, 3], \"yes\", \"no\"]\n",
        "print(my_list)  # Output: [True, False, [1, 2, 3], 'yes', 'no']\n",
        "\n",
        "\n",
        "Example 3: Mixing Dictionaries and Tuples\n",
        "\n",
        "\n",
        "my_list = [{\"name\": \"John\"}, (1, 2, 3), \"hello\"]\n",
        "print(my_list)  # Output: [{'name': 'John'}, (1, 2, 3), 'hello']\n",
        "\n",
        "\n",
        "As you can see, Python lists can contain a wide range of data types, including:\n",
        "\n",
        "- Integers\n",
        "- Floats\n",
        "- Strings\n",
        "- Boolean values\n",
        "- Lists (nested lists)\n",
        "- Tuples\n",
        "- Dictionaries"
      ],
      "metadata": {
        "id": "6M04GkB_dO9M"
      }
    },
    {
      "cell_type": "markdown",
      "source": [
        "# 10.Explain why strings are immutable in Python ?\n",
        "     In Python, strings are immutable, meaning their contents cannot be modified after creation. This design decision has several reasons:\n",
        "\n",
        "Advantages of Immutable Strings\n",
        "\n",
        "1. Thread Safety: Immutable strings are thread-safe, meaning multiple threads can access and manipulate the same string without fear of data corruption.\n",
        "2. Security: Immutable strings prevent malicious code from modifying sensitive data, reducing the risk of security breaches.\n",
        "3. Performance: Immutable strings allow for faster execution, as Python can cache and reuse immutable strings, reducing memory allocation and deallocation overhead.\n",
        "4. Hashability: Immutable strings can be used as dictionary keys, as their hash value remains constant throughout their lifetime.\n",
        "\n",
        "Consequences of Mutable Strings\n",
        "\n",
        "1. Data Corruption: Mutable strings would introduce the risk of data corruption, as multiple threads or parts of the code could modify the string simultaneously.\n",
        "2. Security Risks: Mutable strings would increase the risk of security breaches, as malicious code could modify sensitive data.\n",
        "3. Performance Overhead: Mutable strings would require additional memory management, leading to performance overhead.\n",
        "\n",
        "Workarounds for Immutable Strings\n",
        "\n",
        "1. Create a new string: When modifying a string, create a new string with the desired changes.\n",
        "2. Use a list of characters: When frequent modifications are necessary, use a list of characters, which can be modified in place.\n",
        "\n",
        "Example\n",
        "\n",
        "\n",
        "# Attempting to modify an immutable string\n",
        "my_string = \"hello\"\n",
        "try:\n",
        "    my_string[0] = \"H\"\n",
        "except TypeError as e:\n",
        "    print(e)  # Output: 'str' object does not support item assignment\n",
        "\n",
        "# Creating a new string with modifications\n",
        "my_new_string = \"H\" + my_string[1:]\n",
        "print(my_new_string)  # Output: Hello\n"
      ],
      "metadata": {
        "id": "Kky-2ATgeCUR"
      }
    },
    {
      "cell_type": "markdown",
      "source": [
        "# 11.What advantages do dictionaries offer over lists for certain task?\n",
        "     \n",
        "     Dictionaries offer several advantages over lists for certain tasks:\n",
        "\n",
        "1. Fast Lookups: Dictionaries provide fast lookups, with an average time complexity of O(1), making them ideal for tasks that require frequent lookups.\n",
        "\n",
        "2. Key-Value Pairing: Dictionaries store data as key-value pairs, allowing for efficient storage and retrieval of data.\n",
        "\n",
        "3. No Duplicate Keys: Dictionaries cannot have duplicate keys, ensuring that each key is unique and eliminating the need for duplicate key handling.\n",
        "\n",
        "4. Flexible Data Structure: Dictionaries can store a wide range of data types, including strings, integers, floats, and other dictionaries.\n",
        "\n",
        "5. Easy Data Manipulation: Dictionaries provide various methods for easy data manipulation, such as adding, removing, and updating key-value pairs.\n",
        "\n",
        "6. Improved Code Readability: Dictionaries can improve code readability by providing a clear and concise way to store and retrieve data.\n",
        "\n",
        "7. Efficient Memory Usage: Dictionaries can be more memory-efficient than lists, especially when dealing with large amounts of data.\n",
        "\n",
        "When to use dictionaries over lists:\n",
        "\n",
        "1. Data with unique identifiers: Use dictionaries when working with data that has unique identifiers, such as user IDs or product codes.\n",
        "\n",
        "2. Frequent lookups: Use dictionaries when frequent lookups are necessary, such as in caching or configuration data.\n",
        "\n",
        "3. Complex data relationships: Use dictionaries when working with complex data relationships, such as storing data with multiple attributes.\n",
        "\n",
        "4. Dynamic data: Use dictionaries when working with dynamic data that requires frequent updates or changes.\n",
        "\n",
        "Example:\n",
        "\n",
        "\n",
        "# Using a dictionary to store student data\n",
        "students = {\n",
        "    \"rony\": {\"age\": 20, \"grade\": \"A\"},\n",
        "    \"Jane\": {\"age\": 22, \"grade\": \"B\"}\n",
        "}\n",
        "\n",
        "# Fast lookup\n",
        "print(students[\"rony\"][\"age\"])  # Output: 20\n",
        "\n",
        "# Easy data manipulation\n",
        "students[\"rony\"][\"grade\"] = \"A+\"\n",
        "print(students[\"rony\"])  # Output: {'age': 20, 'grade': 'A+'}\n",
        "\n",
        "\n"
      ],
      "metadata": {
        "id": "DAYqg5baeQ8H"
      }
    },
    {
      "cell_type": "markdown",
      "source": [
        "11.Describe a scenario where using a tuple would be preferable over a liste?\n",
        "\n",
        " Here's a scenario where using a tuple would be preferable over a list:\n",
        "\n",
        "Scenario: Representing a Date\n",
        "\n",
        "Suppose you're working on a project that involves storing and manipulating dates. You want to represent a date as a collection of three values: year, month, and day.\n",
        "\n",
        "Why Tuples are Preferable\n",
        "\n",
        "In this scenario, using a tuple would be preferable over a list for several reasons:\n",
        "\n",
        "1. Immutability: Dates are typically immutable, meaning they shouldn't be changed once created. Tuples, being immutable, ensure that the date values cannot be modified accidentally.\n",
        "2. Readability: Tuples are often more readable than lists, especially when working with small, fixed-size collections. The syntax for creating a tuple is more concise and expressive.\n",
        "3. Performance: Tuples are generally faster and more memory-efficient than lists, which can be beneficial when working with large datasets.\n",
        "\n",
        "Example Code\n",
        "\n",
        "Here's an example of how you might represent a date using a tuple:\n",
        "\n",
        "date = (2022, 12, 25)\n",
        "print(date)  # Output: (2022, 12, 25)\n",
        "\n",
        "# Accessing individual values\n",
        "year, month, day = date\n",
        "print(year)  # Output: 2022\n",
        "print(month)  # Output: 12\n",
        "print(day)  # Output: 25\n",
        "\n",
        "\n",
        "In contrast, using a list to represent a date might look like this:\n",
        "\n",
        "date = [2022, 12, 25]\n",
        "print(date)  # Output: [2022, 12, 25]\n",
        "\n",
        "# Accessing individual values\n",
        "year = date[0]\n",
        "month = date[1]\n",
        "day = date[2]\n",
        "print(year)  # Output: 2022\n",
        "print(month)  # Output: 12\n",
        "print(day)  # Output: 25\n",
        "\n",
        "\n",
        "While both approaches can work, the tuple-based approach is generally more concise, readable, and efficient."
      ],
      "metadata": {
        "id": "Ydw-_2Pde7do"
      }
    },
    {
      "cell_type": "markdown",
      "source": [
        "# 13. How do sets handle duplicate values in Python?\n",
        "\n",
        "      In Python, sets automatically eliminate duplicate values. Here's how it works:\n",
        "\n",
        "Duplicate Value Handling\n",
        "\n",
        "When you add a value to a set that already exists in the set, Python simply ignores the duplicate value and does not add it again.\n",
        "\n",
        "Example\n",
        "\n",
        "\n",
        "# Create a set\n",
        "my_set = {1, 2, 3, 2, 4, 4, 5}\n",
        "\n",
        "# Print the set\n",
        "print(my_set)  # Output: {1, 2, 3, 4, 5}\n",
        "\n",
        "\n",
        "As you can see, the duplicate values 2 and 4 are automatically removed from the set.\n",
        "\n",
        "How Sets Store Values\n",
        "\n",
        "Sets store values in a hash table, which allows for fast lookups and insertions. When you add a value to a set, Python calculates the hash value of the object and checks if it already exists in the set. If it does, the value is not added again.\n",
        "\n",
        "Benefits of Automatic Duplicate Removal\n",
        "\n",
        "The automatic removal of duplicates in sets provides several benefits, including:\n",
        "\n",
        "- Efficient storage: Sets only store unique values, which reduces memory usage.\n",
        "- Fast lookups: Sets provide fast lookups, with an average time complexity of O(1).\n",
        "- Simplified data processing: Sets simplify data processing by eliminating duplicates, making it easier to perform operations like union, intersection, and difference."
      ],
      "metadata": {
        "id": "7JhEOkr0f7OC"
      }
    },
    {
      "cell_type": "markdown",
      "source": [
        "# 14.How does the “in” keyword work differently for lists and dictionaries?\n",
        "  \n",
        "  Python, the in keyword works differently for lists and dictionaries:\n",
        "\n",
        "Lists\n",
        "\n",
        "For lists, the in keyword checks if a specific value exists within the list. It iterates through each element in the list and returns True if the value is found, and False otherwise.\n",
        "\n",
        "Example\n",
        "\n",
        "\n",
        "my_list = [1, 2, 3, 4, 5]\n",
        "print(3 in my_list)  # Output: True\n",
        "print(6 in my_list)  # Output: False\n",
        "\n",
        "\n",
        "Dictionaries\n",
        "\n",
        "For dictionaries, the in keyword checks if a specific key exists within the dictionary. It does not check for values. If the key is found, it returns True; otherwise, it returns False.\n",
        "\n",
        "Example\n",
        "\n",
        "\n",
        "my_dict = {\"name\": \"John\", \"age\": 30}\n",
        "print(\"name\" in my_dict)  # Output: True\n",
        "print(\"city\" in my_dict)  # Output: False\n",
        "print(30 in my_dict.values())  # Output: True (checks for values)\n",
        "\n",
        "\n",
        "Key Takeaways\n",
        "\n",
        "- For lists, in checks for values.\n",
        "- For dictionaries, in checks for keys (use .values() to check for values)."
      ],
      "metadata": {
        "id": "Zdj9NeL4gVgj"
      }
    },
    {
      "cell_type": "markdown",
      "source": [
        "# 15. Can you modify the elements of a tuple? Explain why or why note?\n",
        "      No, you cannot modify the elements of a tuple in Python.\n",
        "\n",
        "Tuples are immutable, meaning their contents cannot be changed after creation. This is a fundamental property of tuples in Python.\n",
        "\n",
        "Here's why:\n",
        "\n",
        "1. Immutability: Tuples are designed to be immutable, which ensures that their contents remain consistent throughout the program's execution.\n",
        "2. Hashability: Tuples are hashable, meaning they can be used as dictionary keys. If tuples were mutable, their hash values would change, breaking the dictionary's integrity.\n",
        "3. Thread Safety: Immutable tuples can be safely shared between threads without fear of data corruption.\n",
        "\n",
        "If you try to modify a tuple, you'll get a TypeError. For example:\n",
        "\n",
        "\n",
        "my_tuple = (1, 2, 3)\n",
        "try:\n",
        "    my_tuple[0] = 10\n",
        "except TypeError as e:\n",
        "    print(e)  # Output: 'tuple' object does not support item assignment\n",
        "\n",
        "\n",
        "However, there are some workarounds:\n",
        "\n",
        "1. Convert to a list: If you need to modify the elements, convert the tuple to a list, modify the list, and then convert it back to a tuple if needed.\n",
        "2. Create a new tuple: Create a new tuple with the modified elements, as shown below:\n",
        "\n",
        "\n",
        "my_tuple = (1, 2, 3)\n",
        "my_new_tuple = (10, 2, 3)\n",
        "print(my_new_tuple)  # Output: (10, 2, 3)\n",
        "\n",
        "\n",
        "In summary, tuples are immutable in Python, and attempting to modify their elements will result in a TypeError.\n"
      ],
      "metadata": {
        "id": "K9XHpZRLg3Yj"
      }
    },
    {
      "cell_type": "markdown",
      "source": [
        "# 16. What is a nested dictionary, and give an example of its use case?\n",
        "      A nested dictionary is a dictionary that contains another dictionary as its value. This allows for a hierarchical organization of data, where each inner dictionary represents a subset of data related to a specific key in the outer dictionary.\n",
        "\n",
        "Here's an example of a nested dictionary:\n",
        "\n",
        "\n",
        "students = {\n",
        "    \"John\": {\n",
        "        \"age\": 20,\n",
        "        \"grade\": \"A\",\n",
        "        \"courses\": [\"Math\", \"Science\", \"English\"]\n",
        "    },\n",
        "    \"Jane\": {\n",
        "        \"age\": 22,\n",
        "        \"grade\": \"B\",\n",
        "        \"courses\": [\"History\", \"Philosophy\", \"Economics\"]\n",
        "    },\n",
        "    \"Bob\": {\n",
        "        \"age\": 21,\n",
        "        \"grade\": \"C\",\n",
        "        \"courses\": [\"Computer Science\", \"Engineering\", \"Physics\"]\n",
        "    }\n",
        "}\n",
        "\n",
        "\n",
        "In this example, the outer dictionary students has three keys: \"John\", \"Jane\", and \"Bob\". Each of these keys corresponds to an inner dictionary that contains information about the student, such as their age, grade, and courses.\n",
        "\n",
        "Use cases for nested dictionaries include:\n",
        "\n",
        "1. Student information systems: As shown in the example above, nested dictionaries can be used to store information about students, including their personal details, academic performance, and course enrollment.\n",
        "2. Product catalogs: Nested dictionaries can be used to store information about products, including their descriptions, prices, and features.\n",
        "3. Configuration files: Nested dictionaries can be used to store configuration data for applications, including settings, options, and preferences.\n",
        "4. Data analysis: Nested dictionaries can be used to store and manipulate data for analysis, including data from surveys, experiments, or simulations.\n",
        "\n",
        "To access the inner dictionary values, you can use the following syntax:\n",
        "\n",
        "\n",
        "print(students[\"John\"][\"age\"])  # Output: 20\n",
        "print(students[\"Jane\"][\"courses\"])  # Output: ['History', 'Philosophy', 'Economics']"
      ],
      "metadata": {
        "id": "jC0HGA-Au-Qw"
      }
    },
    {
      "cell_type": "markdown",
      "source": [
        "# 17.Describe the time complexity of accessing elements in a dictionary?\n",
        "   \n",
        "\n",
        "\n",
        "This is because dictionaries use a hash function to map keys to indices of an underlying array. When you access an element using its key, the dictionary uses the hash function to compute the index of the element, and then returns the element at that index.\n",
        "\n",
        "However, in the worst-case scenario, the time complexity of accessing elements in a dictionary can be O(n), where n is the number of elements in the dictionary. This can happen when:\n",
        "\n",
        "1. Hash collisions: When two or more keys hash to the same index, the dictionary must use a collision resolution technique, such as chaining or open addressing, to find the correct element. This can lead to a linear search, resulting in O(n) time complexity.\n",
        "2. Poor hash function: If the hash function is poorly designed, it may produce a large number of collisions, leading to O(n) time complexity.\n",
        "\n",
        "To mitigate these issues, dictionaries often use techniques such as:\n",
        "\n",
        "1. Hash table resizing: Dynamically resizing the hash table to maintain a good load factor, which helps to reduce collisions.\n",
        "2. Good hash function design: Using a well-designed hash function that minimizes collisions.\n",
        "\n",
        "In general, the average time complexity of accessing elements in a dictionary is O(1), making dictionaries a very efficient data structure for fast lookups and insertions."
      ],
      "metadata": {
        "id": "pqyi0zb-wCfq"
      }
    },
    {
      "cell_type": "markdown",
      "source": [
        "# 18. In what situations are lists preferred over dictionaries?\n",
        "      \n",
        "      Lists are preferred over dictionaries in the following situations:\n",
        "\n",
        "1. Ordered data: When the order of the data matters, lists are a better choice. Dictionaries are inherently unordered (before Python 3.7), and while they maintain their insertion order in Python 3.7+, they are not designed for ordered data.\n",
        "\n",
        "2. Indexed access: When you need to access elements by their index, lists are more suitable. Lists support indexing, slicing, and other sequence operations.\n",
        "\n",
        "3. Homogeneous data: When working with homogeneous data (i.e., data of the same type), lists are a better fit. Dictionaries are designed for heterogeneous data (key-value pairs).\n",
        "\n",
        "4. Sequential processing: When you need to process data sequentially, lists are more convenient. You can use iteration, enumerate, or other sequence operations.\n",
        "\n",
        "5. Fixed-size data: When working with fixed-size data, lists can be more efficient. Dictionaries have overhead due to their hash table implementation.\n",
        "\n",
        "6. Simple data storage: When you need to store simple data without key-value associations, lists are sufficient.\n",
        "\n",
        "7. Performance-critical code: In performance-critical code, lists can be faster than dictionaries due to their simpler implementation.\n",
        "\n",
        "8. JSON or other serialized data: When working with JSON or other serialized data, lists can be more convenient for storing and parsing data.\n",
        "\n",
        "In summary, lists are preferred when working with ordered, homogeneous, or fixed-size data, or when you need indexed access, sequential processing, or simple data storage. Dictionaries are better suited for key-value data, heterogeneous data, or situations where fast lookups are essential.\n"
      ],
      "metadata": {
        "id": "aoTdrtolw4cq"
      }
    },
    {
      "cell_type": "markdown",
      "source": [
        "# 19.Why are dictionaries considered unordered, and how does that affect data retrieval\n",
        "\n",
        "The order in which key-value pairs are stored in the hash table is determined by the hash function and the order in which the pairs were inserted. However, this order is not guaranteed to be consistent across different runs of the program or even within the same program.\n",
        "\n",
        "Prior to Python 3.7, dictionaries did not maintain their insertion order. This means that when you iterated over a dictionary, the order in which the key-value pairs were returned was arbitrary.\n",
        "\n",
        "How does that affect data retrieval?\n",
        "\n",
        "The unordered nature of dictionaries affects data retrieval in the following ways:\n",
        "\n",
        "1. Iteration order is arbitrary: When you iterate over a dictionary using .items(), .keys(), or .values(), the order in which the key-value pairs are returned is arbitrary.\n",
        "2. No guarantee of consistency: The order in which key-value pairs are returned may not be consistent across different runs of the program or even within the same program.\n",
        "3. Cannot rely on index-based access: Since dictionaries are unordered, you cannot rely on index-based access to retrieve specific key-value pairs.\n",
        "\n",
        "Changes in Python 3.7 and later\n",
        "\n",
        "In Python 3.7 and later, dictionaries maintain their insertion order. This means that when you iterate over a dictionary, the key-value pairs are returned in the order they were inserted.\n"
      ],
      "metadata": {
        "id": "HxqhuljPxdR4"
      }
    },
    {
      "cell_type": "markdown",
      "source": [
        "# 20.Explain the difference between a list and a dictionary in terms of data retrieval.\n",
        "\n",
        "     Here's a detailed explanation of the differences between lists and dictionaries in terms of data retrieval:\n",
        "\n",
        "Lists\n",
        "\n",
        "1. Index-based retrieval: Lists allow you to retrieve data using its index (position in the list).\n",
        "2. Sequential access: Lists are designed for sequential access, meaning you can access elements in a specific order (e.g., first to last).\n",
        "3. Fast lookup by index: Lists provide fast lookup by index, with an average time complexity of O(1).\n",
        "4. Slow lookup by value: However, looking up a specific value in a list can be slow, with a time complexity of O(n), where n is the length of the list.\n",
        "\n",
        "Dictionaries\n",
        "\n",
        "1. Key-based retrieval: Dictionaries allow you to retrieve data using its key (a unique identifier).\n",
        "2. Fast lookup by key: Dictionaries provide fast lookup by key, with an average time complexity of O(1).\n",
        "3. No sequential access: Dictionaries are not designed for sequential access, and the order of elements is not guaranteed (although in Python 3.7+, dictionaries maintain their insertion order).\n",
        "4. No index-based retrieval: Dictionaries do not support index-based retrieval, as elements are identified by their keys, not their positions.\n",
        "\n",
        "Key differences\n",
        "\n",
        "1. Lookup mechanism: Lists use index-based lookup, while dictionaries use key-based lookup.\n",
        "2. Time complexity: Lists have fast lookup by index (O(1)) but slow lookup by value (O(n)), while dictionaries have fast lookup by key (O(1)).\n",
        "3. Data structure: Lists are ordered collections of elements, while dictionaries are unordered collections of key-value pairs.\n",
        "\n",
        "In summary, lists are suitable when you need to access data sequentially or by index, while dictionaries are ideal when you need to access data by a unique key or identifier.\n"
      ],
      "metadata": {
        "id": "0rywoZUevicD"
      }
    },
    {
      "cell_type": "markdown",
      "source": [
        "# Practical Questions"
      ],
      "metadata": {
        "id": "9eM6QxrIyEq0"
      }
    },
    {
      "cell_type": "code",
      "source": [
        "#1. Write a code to create a string with your name and print it?\n",
        "\n",
        "name = \"jagnyaseni\"\n",
        "print(\"jagnyaseni\")\n",
        "\n",
        "\n"
      ],
      "metadata": {
        "colab": {
          "base_uri": "https://localhost:8080/"
        },
        "id": "VeghVkAI05K1",
        "outputId": "817f4e03-8abb-4fc2-80e9-222bc9c249a2"
      },
      "execution_count": 2,
      "outputs": [
        {
          "output_type": "stream",
          "name": "stdout",
          "text": [
            "jagnyaseni\n"
          ]
        }
      ]
    },
    {
      "cell_type": "code",
      "source": [
        "#2 Write a code to find the length of the string \"Hello World\"?\n",
        "my_string = \"Hello World\"\n",
        "\n",
        "length = len(my_string)\n",
        "print(length)"
      ],
      "metadata": {
        "colab": {
          "base_uri": "https://localhost:8080/"
        },
        "id": "OkYVEJjf3TdJ",
        "outputId": "20a6483b-2ecc-4c8f-cc16-793e85712280"
      },
      "execution_count": 5,
      "outputs": [
        {
          "output_type": "stream",
          "name": "stdout",
          "text": [
            "11\n"
          ]
        }
      ]
    },
    {
      "cell_type": "code",
      "source": [
        "#3 Write a code to slice the first 3 characters from the string \"Python Programming\"?\n",
        "my_string = \"Python Programming\"\n",
        "\n",
        "sliced_string = my_string[:3]\n",
        "print(sliced_string)\n"
      ],
      "metadata": {
        "colab": {
          "base_uri": "https://localhost:8080/"
        },
        "id": "M-UV-0363Wip",
        "outputId": "ae99f881-07cc-4d7a-acb3-6548d1ec3f55"
      },
      "execution_count": 6,
      "outputs": [
        {
          "output_type": "stream",
          "name": "stdout",
          "text": [
            "Pyt\n"
          ]
        }
      ]
    },
    {
      "cell_type": "code",
      "source": [
        "#4 Write a code to convert the string \"hello\" to uppercase?\n",
        "my_string = \"hello\"\n",
        "\n",
        "uppercase_string = my_string.upper()\n",
        "\n",
        "print(uppercase_string)"
      ],
      "metadata": {
        "colab": {
          "base_uri": "https://localhost:8080/"
        },
        "id": "c7cf6x3x3ne2",
        "outputId": "5bef63d1-6c0c-4f18-b166-5d5872039f64"
      },
      "execution_count": 8,
      "outputs": [
        {
          "output_type": "stream",
          "name": "stdout",
          "text": [
            "HELLO\n"
          ]
        }
      ]
    },
    {
      "cell_type": "code",
      "source": [
        "#5 Write a code to replace the word \"apple\" with \"orange\" in the string \"I like apple\"?\n",
        "my_string = \"I like apple\"\n",
        "new_string = my_string.replace(\"apple\", \"orange\")\n",
        "print(new_string)\n"
      ],
      "metadata": {
        "colab": {
          "base_uri": "https://localhost:8080/"
        },
        "id": "bmsP7v2c4EOJ",
        "outputId": "c6e5537b-f765-44f5-c847-880aa3fe9557"
      },
      "execution_count": 9,
      "outputs": [
        {
          "output_type": "stream",
          "name": "stdout",
          "text": [
            "I like orange\n"
          ]
        }
      ]
    },
    {
      "cell_type": "code",
      "source": [
        "#6 Write a code to create a list with numbers 1 to 5 and print it?\n",
        "\n",
        "my_list = [1, 2, 3, 4, 5]\n",
        "\n",
        "print(my_list)\n"
      ],
      "metadata": {
        "colab": {
          "base_uri": "https://localhost:8080/"
        },
        "id": "qFGBMWOr4EhV",
        "outputId": "e73e725f-7b53-429a-d224-aa65f21a64fa"
      },
      "execution_count": 10,
      "outputs": [
        {
          "output_type": "stream",
          "name": "stdout",
          "text": [
            "[1, 2, 3, 4, 5]\n"
          ]
        }
      ]
    },
    {
      "cell_type": "code",
      "source": [
        "#7 Write a code to append the number 10 to the list [1, 2, 3, 4]?\n",
        "\n",
        "my_list = [1, 2, 3, 4]\n",
        "my_list.append(10)\n",
        "\n",
        "print(my_list)\n"
      ],
      "metadata": {
        "colab": {
          "base_uri": "https://localhost:8080/"
        },
        "id": "fHdBHIc14Vdp",
        "outputId": "d1a293b6-59a9-41a6-d4e4-07645aff7f21"
      },
      "execution_count": 11,
      "outputs": [
        {
          "output_type": "stream",
          "name": "stdout",
          "text": [
            "[1, 2, 3, 4, 10]\n"
          ]
        }
      ]
    },
    {
      "cell_type": "code",
      "source": [
        "#8 Write a code to remove the number 3 from the list [1, 2, 3, 4, 5]\n",
        "\n",
        "my_list = [1, 2, 3, 4, 5]\n",
        "my_list.remove(3)\n",
        "print(my_list)\n"
      ],
      "metadata": {
        "colab": {
          "base_uri": "https://localhost:8080/"
        },
        "id": "LZoStUAc5trb",
        "outputId": "5b21d8dc-ea40-404f-b76f-69cd53003cd4"
      },
      "execution_count": 12,
      "outputs": [
        {
          "output_type": "stream",
          "name": "stdout",
          "text": [
            "[1, 2, 4, 5]\n"
          ]
        }
      ]
    },
    {
      "cell_type": "code",
      "source": [
        "#9 Write a code to access the second element in the list ['a', 'b', 'c', 'd']?\n",
        "\n",
        "my_list = ['a', 'b', 'c', 'd']\n",
        "second_element = my_list[1]\n",
        "print(second_element)\n",
        ""
      ],
      "metadata": {
        "colab": {
          "base_uri": "https://localhost:8080/"
        },
        "id": "YQuhjlc74E0d",
        "outputId": "ccca14e4-2978-44c8-cbfc-4a9fa3450dd9"
      },
      "execution_count": 13,
      "outputs": [
        {
          "output_type": "stream",
          "name": "stdout",
          "text": [
            "b\n"
          ]
        }
      ]
    },
    {
      "cell_type": "code",
      "source": [
        "#10 Write a code to reverse the list [10, 20, 30, 40, 50]?\n",
        "\n",
        "my_list = [10, 20, 30, 40, 50]\n",
        "\n",
        "my_list.reverse()\n",
        "print(my_list)"
      ],
      "metadata": {
        "colab": {
          "base_uri": "https://localhost:8080/"
        },
        "id": "4gN2Bo4L6BgT",
        "outputId": "8157b353-8286-432c-b7dd-79c982b95a85"
      },
      "execution_count": 14,
      "outputs": [
        {
          "output_type": "stream",
          "name": "stdout",
          "text": [
            "[50, 40, 30, 20, 10]\n"
          ]
        }
      ]
    },
    {
      "cell_type": "code",
      "source": [
        "#11 Write a code to create a tuple with the elements 10, 20, 30 and print it?\n",
        "\n",
        "my_tuple = (10, 20, 30)\n",
        "print(my_tuple)"
      ],
      "metadata": {
        "colab": {
          "base_uri": "https://localhost:8080/"
        },
        "id": "5yXjotAJ6YTB",
        "outputId": "6c62f373-caba-4786-ef1b-78424b01a876"
      },
      "execution_count": 15,
      "outputs": [
        {
          "output_type": "stream",
          "name": "stdout",
          "text": [
            "(10, 20, 30)\n"
          ]
        }
      ]
    },
    {
      "cell_type": "code",
      "source": [
        "#12  Write a code to access the first element of the tuple ('apple', 'banana', 'cherry').\n",
        "my_tuple = ('apple', 'banana', 'cherry')\n",
        "\n",
        "first_element = my_tuple[0]\n",
        "print(first_element)"
      ],
      "metadata": {
        "colab": {
          "base_uri": "https://localhost:8080/"
        },
        "id": "PEaJimIb6mTK",
        "outputId": "e4472a44-fff0-4dfb-8465-e5c6c13ba0f5"
      },
      "execution_count": 16,
      "outputs": [
        {
          "output_type": "stream",
          "name": "stdout",
          "text": [
            "apple\n"
          ]
        }
      ]
    },
    {
      "cell_type": "code",
      "source": [
        "#13 Write a code to count how many times the number 2 appears in the tuple (1, 2, 3, 2, 4, 2)\n",
        "\n",
        "my_tuple = (1, 2, 3, 2, 4, 2)\n",
        "count_of_2 = my_tuple.count(2)\n",
        "print(count_of_2)"
      ],
      "metadata": {
        "colab": {
          "base_uri": "https://localhost:8080/"
        },
        "id": "kpRjZ-fe6vnf",
        "outputId": "b9ca9d49-f93d-41db-a90d-11cbe81b7602"
      },
      "execution_count": 17,
      "outputs": [
        {
          "output_type": "stream",
          "name": "stdout",
          "text": [
            "3\n"
          ]
        }
      ]
    },
    {
      "cell_type": "code",
      "source": [
        "#14  Write a code to find the index of the element \"cat\" in the tuple ('dog', 'cat', 'rabbit')\n",
        "\n",
        "my_tuple = ('dog', 'cat', 'rabbit')\n",
        "index_of_cat = my_tuple.index('cat')\n",
        "\n",
        "print(index_of_cat)\n",
        ""
      ],
      "metadata": {
        "colab": {
          "base_uri": "https://localhost:8080/"
        },
        "id": "JENNNfHt608t",
        "outputId": "1245ab84-fef7-443c-a8b0-81a60bf44983"
      },
      "execution_count": 18,
      "outputs": [
        {
          "output_type": "stream",
          "name": "stdout",
          "text": [
            "1\n"
          ]
        }
      ]
    },
    {
      "cell_type": "code",
      "source": [
        "#15 Write a code to check if the element \"banana\" is in the tuple ('apple', 'orange', 'banana').\n",
        "\n",
        "my_tuple = ('apple', 'orange', 'banana')\n",
        "\n",
        "is_banana_in_tuple = 'banana' in my_tuple\n",
        "print(is_banana_in_tuple)\n",
        ""
      ],
      "metadata": {
        "colab": {
          "base_uri": "https://localhost:8080/"
        },
        "id": "A5o6oaca67F8",
        "outputId": "143346b3-5935-45b6-f248-daaac1399923"
      },
      "execution_count": 19,
      "outputs": [
        {
          "output_type": "stream",
          "name": "stdout",
          "text": [
            "True\n"
          ]
        }
      ]
    },
    {
      "cell_type": "code",
      "source": [
        "#16 Write a code to create a set with the elements 1, 2, 3, 4, 5 and print it.\n",
        "\n",
        "my_set = {1, 2, 3, 4, 5}\n",
        "\n",
        "print(my_set)"
      ],
      "metadata": {
        "colab": {
          "base_uri": "https://localhost:8080/"
        },
        "id": "P0TyNGQO7CVq",
        "outputId": "e31d3b22-feff-41d0-86cf-8054f2c581cb"
      },
      "execution_count": 20,
      "outputs": [
        {
          "output_type": "stream",
          "name": "stdout",
          "text": [
            "{1, 2, 3, 4, 5}\n"
          ]
        }
      ]
    },
    {
      "cell_type": "code",
      "source": [
        "#17 Write a code to add the element 6 to the set {1, 2, 3, 4}\n",
        "\n",
        "my_set = {1, 2, 3, 4}\n",
        "my_set.add(6)\n",
        "print(my_set)"
      ],
      "metadata": {
        "colab": {
          "base_uri": "https://localhost:8080/"
        },
        "id": "qRBvYX8J7LEi",
        "outputId": "ca04dded-ba72-4cb7-c304-027cf2b1ad10"
      },
      "execution_count": 21,
      "outputs": [
        {
          "output_type": "stream",
          "name": "stdout",
          "text": [
            "{1, 2, 3, 4, 6}\n"
          ]
        }
      ]
    },
    {
      "cell_type": "code",
      "source": [
        "#18  Write a code to create a tuple with the elements 10, 20, 30 and print it.\n",
        "\n",
        "my_tuple = (10, 20, 30)\n",
        "\n",
        "print(my_tuple)"
      ],
      "metadata": {
        "colab": {
          "base_uri": "https://localhost:8080/"
        },
        "id": "CEYAK-CJ7UGz",
        "outputId": "20973469-f3e4-4fe2-e490-d4303baccf89"
      },
      "execution_count": 22,
      "outputs": [
        {
          "output_type": "stream",
          "name": "stdout",
          "text": [
            "(10, 20, 30)\n"
          ]
        }
      ]
    },
    {
      "cell_type": "code",
      "source": [
        "#19  Write a code to access the first element of the tuple ('apple', 'banana', 'cherry').\n",
        "my_tuple = ('apple', 'banana', 'cherry')\n",
        "\n",
        "first_element = my_tuple[0]\n",
        "print(first_element)"
      ],
      "metadata": {
        "colab": {
          "base_uri": "https://localhost:8080/"
        },
        "id": "HtV-Ft6d7b-e",
        "outputId": "7a6590ed-3ba4-4451-e599-c092038fde31"
      },
      "execution_count": 23,
      "outputs": [
        {
          "output_type": "stream",
          "name": "stdout",
          "text": [
            "apple\n"
          ]
        }
      ]
    },
    {
      "cell_type": "code",
      "source": [
        "#20  Write a code to count how many times the number 2 appears in the tuple (1, 2, 3, 2, 4, 2)\n",
        "my_tuple = (1, 2, 3, 2, 4, 2)\n",
        "count_of_2 = my_tuple.count(2)\n",
        "print(count_of_2)"
      ],
      "metadata": {
        "colab": {
          "base_uri": "https://localhost:8080/"
        },
        "id": "0-izm1pf7jKL",
        "outputId": "92ff9d37-0691-40ed-ae8a-409291c21103"
      },
      "execution_count": 24,
      "outputs": [
        {
          "output_type": "stream",
          "name": "stdout",
          "text": [
            "3\n"
          ]
        }
      ]
    },
    {
      "cell_type": "code",
      "source": [
        "#21  Write a code to find the index of the element \"cat\" in the tuple ('dog', 'cat', 'rabbit').\n",
        "my_tuple = ('dog', 'cat', 'rabbit')\n",
        "index_of_cat = my_tuple.index('cat')\n",
        "\n",
        "print(index_of_cat)"
      ],
      "metadata": {
        "colab": {
          "base_uri": "https://localhost:8080/"
        },
        "id": "O_NjOfaO7pW1",
        "outputId": "50128598-6c29-40bb-d86a-ed3dcad683e4"
      },
      "execution_count": 25,
      "outputs": [
        {
          "output_type": "stream",
          "name": "stdout",
          "text": [
            "1\n"
          ]
        }
      ]
    },
    {
      "cell_type": "code",
      "source": [
        "#22 Write a code to check if the element \"banana\" is in the tuple ('apple', 'orange', 'banana').\n",
        "my_tuple = ('apple', 'orange', 'banana')\n",
        "\n",
        "is_banana_in_tuple = 'banana' in my_tuple\n",
        "print(is_banana_in_tuple)\n",
        ""
      ],
      "metadata": {
        "colab": {
          "base_uri": "https://localhost:8080/"
        },
        "id": "evpwI5V77vxY",
        "outputId": "cecb97da-3907-4bf7-e711-2f574d032721"
      },
      "execution_count": 26,
      "outputs": [
        {
          "output_type": "stream",
          "name": "stdout",
          "text": [
            "True\n"
          ]
        }
      ]
    },
    {
      "cell_type": "code",
      "source": [
        "#23  Write a code to create a set with the elements 1, 2, 3, 4, 5 and print it.\n",
        "my_set = {1, 2, 3, 4, 5}\n",
        "\n",
        "print(my_set)"
      ],
      "metadata": {
        "colab": {
          "base_uri": "https://localhost:8080/"
        },
        "id": "1kZc97XF71HI",
        "outputId": "6f4647ed-698b-4182-aff8-e2ac06cc6a1e"
      },
      "execution_count": 27,
      "outputs": [
        {
          "output_type": "stream",
          "name": "stdout",
          "text": [
            "{1, 2, 3, 4, 5}\n"
          ]
        }
      ]
    },
    {
      "cell_type": "code",
      "source": [
        "#24 . Write a code to add the element 6 to the set {1, 2, 3, 4}.\n",
        "my_set = {1, 2, 3, 4}\n",
        "my_set.add(6)\n",
        "print(my_set)"
      ],
      "metadata": {
        "colab": {
          "base_uri": "https://localhost:8080/"
        },
        "id": "gW73KMMU7596",
        "outputId": "2b13ba61-e311-435a-c5dc-4a49caeb7896"
      },
      "execution_count": 28,
      "outputs": [
        {
          "output_type": "stream",
          "name": "stdout",
          "text": [
            "{1, 2, 3, 4, 6}\n"
          ]
        }
      ]
    }
  ]
}